{
 "cells": [
  {
   "cell_type": "markdown",
   "metadata": {},
   "source": [
    "### Fase 2: Extracción de Detalles de Películas con Selenium\n",
    "Utiliza Selenium para obtener información adicional de las películas listadas previamente.\n",
    "\n",
    "**Información requerida:**\n",
    "- Calificación de IMDB.\n",
    "- Dirección (director o directores).\n",
    "- Guionistas.\n",
    "- Argumento.\n",
    "- Duración (en minutos)."
   ]
  },
  {
   "cell_type": "markdown",
   "metadata": {},
   "source": [
    "______________________________"
   ]
  },
  {
   "cell_type": "code",
   "execution_count": 116,
   "metadata": {},
   "outputs": [],
   "source": [
    "import pandas as pd\n",
    "import pickle\n",
    "from time import sleep\n",
    "\n",
    "from bs4 import BeautifulSoup\n",
    "\n",
    "# Importar librerías para automatización de navegadores web con Selenium\n",
    "# -----------------------------------------------------------------------\n",
    "from selenium import webdriver  # Selenium es una herramienta para automatizar la interacción con navegadores web.\n",
    "from webdriver_manager.chrome import ChromeDriverManager  # ChromeDriverManager gestiona la instalación del controlador de Chrome.\n",
    "from selenium.webdriver.common.keys import Keys  # Keys es útil para simular eventos de teclado en Selenium.\n",
    "from selenium.webdriver.support.ui import Select  # Select se utiliza para interactuar con elementos <select> en páginas web.\n",
    "from selenium.webdriver.support.ui import WebDriverWait\n",
    "from selenium.webdriver.support import expected_conditions as EC\n",
    "from selenium.common.exceptions import NoSuchElementException"
   ]
  },
  {
   "cell_type": "code",
   "execution_count": 18,
   "metadata": {},
   "outputs": [
    {
     "data": {
      "text/html": [
       "<div>\n",
       "<style scoped>\n",
       "    .dataframe tbody tr th:only-of-type {\n",
       "        vertical-align: middle;\n",
       "    }\n",
       "\n",
       "    .dataframe tbody tr th {\n",
       "        vertical-align: top;\n",
       "    }\n",
       "\n",
       "    .dataframe thead th {\n",
       "        text-align: right;\n",
       "    }\n",
       "</style>\n",
       "<table border=\"1\" class=\"dataframe\">\n",
       "  <thead>\n",
       "    <tr style=\"text-align: right;\">\n",
       "      <th></th>\n",
       "      <th>id</th>\n",
       "      <th>title</th>\n",
       "      <th>genre</th>\n",
       "      <th>type</th>\n",
       "      <th>release_year</th>\n",
       "      <th>release_month</th>\n",
       "    </tr>\n",
       "  </thead>\n",
       "  <tbody>\n",
       "    <tr>\n",
       "      <th>0</th>\n",
       "      <td>tt0059325</td>\n",
       "      <td>Jahrgang 45</td>\n",
       "      <td>Drama</td>\n",
       "      <td>Movie</td>\n",
       "      <td>1990</td>\n",
       "      <td>10.0</td>\n",
       "    </tr>\n",
       "    <tr>\n",
       "      <th>1</th>\n",
       "      <td>tt0059900</td>\n",
       "      <td>Wenn du groß bist, lieber Adam</td>\n",
       "      <td>Drama</td>\n",
       "      <td>Movie</td>\n",
       "      <td>1990</td>\n",
       "      <td>10.0</td>\n",
       "    </tr>\n",
       "  </tbody>\n",
       "</table>\n",
       "</div>"
      ],
      "text/plain": [
       "          id                           title  genre   type  release_year  \\\n",
       "0  tt0059325                     Jahrgang 45  Drama  Movie          1990   \n",
       "1  tt0059900  Wenn du groß bist, lieber Adam  Drama  Movie          1990   \n",
       "\n",
       "   release_month  \n",
       "0           10.0  \n",
       "1           10.0  "
      ]
     },
     "execution_count": 18,
     "metadata": {},
     "output_type": "execute_result"
    }
   ],
   "source": [
    "df_pelis = pd.read_pickle(\"../datos/df_pelis.pkl\")\n",
    "df_pelis.head(2)"
   ]
  },
  {
   "cell_type": "markdown",
   "metadata": {},
   "source": [
    "Hay varias películas repetidas ya que tienen varios géneros, vamos a agruparlas:"
   ]
  },
  {
   "cell_type": "code",
   "execution_count": 105,
   "metadata": {},
   "outputs": [
    {
     "data": {
      "text/plain": [
       "np.int64(5533)"
      ]
     },
     "execution_count": 105,
     "metadata": {},
     "output_type": "execute_result"
    }
   ],
   "source": [
    "df_pelis.drop(columns=[\"genre\"]).duplicated().sum()"
   ]
  },
  {
   "cell_type": "code",
   "execution_count": 108,
   "metadata": {},
   "outputs": [
    {
     "data": {
      "text/html": [
       "<div>\n",
       "<style scoped>\n",
       "    .dataframe tbody tr th:only-of-type {\n",
       "        vertical-align: middle;\n",
       "    }\n",
       "\n",
       "    .dataframe tbody tr th {\n",
       "        vertical-align: top;\n",
       "    }\n",
       "\n",
       "    .dataframe thead th {\n",
       "        text-align: right;\n",
       "    }\n",
       "</style>\n",
       "<table border=\"1\" class=\"dataframe\">\n",
       "  <thead>\n",
       "    <tr style=\"text-align: right;\">\n",
       "      <th></th>\n",
       "      <th>id</th>\n",
       "      <th>title</th>\n",
       "      <th>genre</th>\n",
       "      <th>type</th>\n",
       "      <th>release_year</th>\n",
       "      <th>release_month</th>\n",
       "    </tr>\n",
       "  </thead>\n",
       "  <tbody>\n",
       "    <tr>\n",
       "      <th>0</th>\n",
       "      <td>tt0011216</td>\n",
       "      <td>La fête espagnole</td>\n",
       "      <td>Drama</td>\n",
       "      <td>Movie</td>\n",
       "      <td>2019</td>\n",
       "      <td>1.0</td>\n",
       "    </tr>\n",
       "    <tr>\n",
       "      <th>1</th>\n",
       "      <td>tt0011801</td>\n",
       "      <td>Tötet nicht mehr</td>\n",
       "      <td>Action</td>\n",
       "      <td>Movie</td>\n",
       "      <td>2019</td>\n",
       "      <td>NaN</td>\n",
       "    </tr>\n",
       "    <tr>\n",
       "      <th>2</th>\n",
       "      <td>tt0015724</td>\n",
       "      <td>Dama de noche</td>\n",
       "      <td>Drama Mystery Romance Thriller</td>\n",
       "      <td>Movie</td>\n",
       "      <td>1993</td>\n",
       "      <td>3.0</td>\n",
       "    </tr>\n",
       "    <tr>\n",
       "      <th>3</th>\n",
       "      <td>tt0016906</td>\n",
       "      <td>Frivolinas</td>\n",
       "      <td>Comedy</td>\n",
       "      <td>Movie</td>\n",
       "      <td>2014</td>\n",
       "      <td>10.0</td>\n",
       "    </tr>\n",
       "    <tr>\n",
       "      <th>4</th>\n",
       "      <td>tt0035423</td>\n",
       "      <td>Kate &amp; Leopold</td>\n",
       "      <td>Comedy Fantasy Romance</td>\n",
       "      <td>Movie</td>\n",
       "      <td>2001</td>\n",
       "      <td>2.0</td>\n",
       "    </tr>\n",
       "  </tbody>\n",
       "</table>\n",
       "</div>"
      ],
      "text/plain": [
       "          id              title                           genre   type  \\\n",
       "0  tt0011216  La fête espagnole                           Drama  Movie   \n",
       "1  tt0011801   Tötet nicht mehr                          Action  Movie   \n",
       "2  tt0015724      Dama de noche  Drama Mystery Romance Thriller  Movie   \n",
       "3  tt0016906         Frivolinas                          Comedy  Movie   \n",
       "4  tt0035423     Kate & Leopold          Comedy Fantasy Romance  Movie   \n",
       "\n",
       "   release_year  release_month  \n",
       "0          2019            1.0  \n",
       "1          2019            NaN  \n",
       "2          1993            3.0  \n",
       "3          2014           10.0  \n",
       "4          2001            2.0  "
      ]
     },
     "execution_count": 108,
     "metadata": {},
     "output_type": "execute_result"
    }
   ],
   "source": [
    "df_agrupado = df_pelis.groupby(\"id\").agg(\n",
    "    title=(\"title\", \"min\"), \n",
    "    genre=(\"genre\", lambda texts: \" \".join(texts)),\n",
    "    type=(\"type\", \"min\"), \n",
    "    release_year=(\"release_year\", \"max\"), \n",
    "    release_month=(\"release_month\", \"max\")\n",
    ").reset_index()\n",
    "\n",
    "df_agrupado.head()"
   ]
  },
  {
   "cell_type": "code",
   "execution_count": 142,
   "metadata": {},
   "outputs": [
    {
     "data": {
      "text/plain": [
       "(21490, 6)"
      ]
     },
     "execution_count": 142,
     "metadata": {},
     "output_type": "execute_result"
    }
   ],
   "source": [
    "df_agrupado.shape"
   ]
  },
  {
   "cell_type": "code",
   "execution_count": null,
   "metadata": {},
   "outputs": [
    {
     "ename": "AttributeError",
     "evalue": "'NoneType' object has no attribute 'text'",
     "output_type": "error",
     "traceback": [
      "\u001b[1;31m---------------------------------------------------------------------------\u001b[0m",
      "\u001b[1;31mAttributeError\u001b[0m                            Traceback (most recent call last)",
      "Cell \u001b[1;32mIn[145], line 28\u001b[0m\n\u001b[0;32m     25\u001b[0m lista_guionistas \u001b[38;5;241m=\u001b[39m [guion\u001b[38;5;241m.\u001b[39mtext \u001b[38;5;28;01mfor\u001b[39;00m guion \u001b[38;5;129;01min\u001b[39;00m guionistas]\n\u001b[0;32m     26\u001b[0m lista_reparto \u001b[38;5;241m=\u001b[39m [rep\u001b[38;5;241m.\u001b[39mtext \u001b[38;5;28;01mfor\u001b[39;00m rep \u001b[38;5;129;01min\u001b[39;00m reparto]\n\u001b[1;32m---> 28\u001b[0m nota_txt \u001b[38;5;241m=\u001b[39m \u001b[43msopa\u001b[49m\u001b[38;5;241;43m.\u001b[39;49m\u001b[43mfind\u001b[49m\u001b[43m(\u001b[49m\u001b[38;5;124;43m\"\u001b[39;49m\u001b[38;5;124;43mspan\u001b[39;49m\u001b[38;5;124;43m\"\u001b[39;49m\u001b[43m,\u001b[49m\u001b[43m \u001b[49m\u001b[43m{\u001b[49m\u001b[38;5;124;43m\"\u001b[39;49m\u001b[38;5;124;43mclass\u001b[39;49m\u001b[38;5;124;43m\"\u001b[39;49m\u001b[43m:\u001b[49m\u001b[38;5;124;43m\"\u001b[39;49m\u001b[38;5;124;43msc-d541859f-1 imUuxf\u001b[39;49m\u001b[38;5;124;43m\"\u001b[39;49m\u001b[43m}\u001b[49m\u001b[43m)\u001b[49m\u001b[38;5;241;43m.\u001b[39;49m\u001b[43mtext\u001b[49m\n\u001b[0;32m     29\u001b[0m nota \u001b[38;5;241m=\u001b[39m \u001b[38;5;28mfloat\u001b[39m(nota_txt\u001b[38;5;241m.\u001b[39mreplace(\u001b[38;5;124m\"\u001b[39m\u001b[38;5;124m,\u001b[39m\u001b[38;5;124m\"\u001b[39m, \u001b[38;5;124m\"\u001b[39m\u001b[38;5;124m.\u001b[39m\u001b[38;5;124m\"\u001b[39m))\n\u001b[0;32m     31\u001b[0m hora \u001b[38;5;241m=\u001b[39m sopa\u001b[38;5;241m.\u001b[39mfind(\u001b[38;5;124m\"\u001b[39m\u001b[38;5;124mul\u001b[39m\u001b[38;5;124m\"\u001b[39m, {\u001b[38;5;124m\"\u001b[39m\u001b[38;5;124mclass\u001b[39m\u001b[38;5;124m\"\u001b[39m:\u001b[38;5;124m\"\u001b[39m\u001b[38;5;124mipc-inline-list ipc-inline-list--show-dividers sc-ec65ba05-2 joVhBE baseAlt\u001b[39m\u001b[38;5;124m\"\u001b[39m})\n",
      "\u001b[1;31mAttributeError\u001b[0m: 'NoneType' object has no attribute 'text'"
     ]
    }
   ],
   "source": [
    "lista_final = []\n",
    "\n",
    "for i in range(360):\n",
    "\n",
    "    id = df_agrupado.loc[i, \"id\"]\n",
    "\n",
    "    driver = webdriver.Chrome()\n",
    "    url = f\"https://www.imdb.com/es-es/title/{id}/\"\n",
    "    driver.get(url)\n",
    "    driver.maximize_window()\n",
    "\n",
    "    html_contenido = driver.page_source\n",
    "    sleep(2)\n",
    "\n",
    "    sopa = BeautifulSoup(html_contenido, \"html.parser\")\n",
    "\n",
    "    # Encontramos el argumento\n",
    "    try:\n",
    "        argumento = sopa.find(\"span\", {\"class\":\"sc-3ac15c8d-1 gkeSEi\"}).text\n",
    "    except:\n",
    "        argumento = None\n",
    "\n",
    "    # Buscamos los directores y guionistas\n",
    "    try:\n",
    "        contenido = sopa.findAll(\"ul\", {\"class\":\"ipc-inline-list ipc-inline-list--show-dividers ipc-inline-list--inline ipc-metadata-list-item__list-content baseAlt\"})\n",
    "        directores = contenido[0].findAll(\"a\")\n",
    "        guionistas = contenido[1].findAll(\"a\")\n",
    "\n",
    "\n",
    "        lista_directores = [director.text for director in directores]\n",
    "        lista_guionistas = [guion.text for guion in guionistas]\n",
    "    except:\n",
    "        lista_directores = []\n",
    "        lista_guionistas = []\n",
    "\n",
    "    # Buscamos la nota\n",
    "    try:\n",
    "        nota_txt = sopa.find(\"span\", {\"class\":\"sc-d541859f-1 imUuxf\"}).text\n",
    "        nota = float(nota_txt.replace(\",\", \".\"))\n",
    "    except:\n",
    "        nota = None\n",
    "\n",
    "    # Buscamos la duración\n",
    "    try:\n",
    "        hora = sopa.find(\"ul\", {\"class\":\"ipc-inline-list ipc-inline-list--show-dividers sc-ec65ba05-2 joVhBE baseAlt\"})\n",
    "        lista_hora = hora.findAll(\"li\")[1].text.replace(\"min\", \"\").split(\"h\")\n",
    "        if len(lista_hora)>1:\n",
    "            hora=int(lista_hora[0].strip())\n",
    "            minutos = int(lista_hora[1].strip())\n",
    "            minutos_totales = hora*60+minutos\n",
    "        else:\n",
    "            minutos_totales = int(lista_hora[0].strip())\n",
    "    except:\n",
    "        minutos_totales = None\n",
    "\n",
    "    tupla_final = (id, nota, lista_directores, lista_guionistas, argumento, minutos_totales)\n",
    "    \n",
    "    driver.quit()\n",
    "\n",
    "    if i%1==0:\n",
    "        with open('../datos/selenium_pelis.plk', 'wb') as f:\n",
    "            pickle.dump(tupla_final, f)\n",
    "    if i==2:\n",
    "        break\n",
    "\n",
    "\n"
   ]
  },
  {
   "cell_type": "code",
   "execution_count": 143,
   "metadata": {},
   "outputs": [
    {
     "data": {
      "text/plain": [
       "3600"
      ]
     },
     "execution_count": 143,
     "metadata": {},
     "output_type": "execute_result"
    }
   ],
   "source": [
    "60*60"
   ]
  },
  {
   "cell_type": "code",
   "execution_count": 138,
   "metadata": {},
   "outputs": [
    {
     "data": {
      "text/plain": [
       "('tt0011216',\n",
       " 6.7,\n",
       " ['Germaine Dulac'],\n",
       " ['Louis Delluc'],\n",
       " ['Ève Francis', 'Gabriel Gabrio', 'Jean Toulout'],\n",
       " 'Coveted by two different men, a woman turns to a third man instead.',\n",
       " 67)"
      ]
     },
     "execution_count": 138,
     "metadata": {},
     "output_type": "execute_result"
    }
   ],
   "source": [
    "with open('../datos/selenium_pelis.plk', 'rb') as f:\n",
    "    data = pickle.load(f)\n",
    "data"
   ]
  },
  {
   "cell_type": "code",
   "execution_count": 123,
   "metadata": {},
   "outputs": [
    {
     "data": {
      "text/plain": [
       "(21490, 6)"
      ]
     },
     "execution_count": 123,
     "metadata": {},
     "output_type": "execute_result"
    }
   ],
   "source": [
    "df_agrupado.shape"
   ]
  },
  {
   "cell_type": "code",
   "execution_count": null,
   "metadata": {},
   "outputs": [
    {
     "name": "stdout",
     "output_type": "stream",
     "text": [
      "403\n"
     ]
    },
    {
     "ename": "AttributeError",
     "evalue": "'NoneType' object has no attribute 'text'",
     "output_type": "error",
     "traceback": [
      "\u001b[1;31m---------------------------------------------------------------------------\u001b[0m",
      "\u001b[1;31mAttributeError\u001b[0m                            Traceback (most recent call last)",
      "Cell \u001b[1;32mIn[136], line 14\u001b[0m\n\u001b[0;32m      9\u001b[0m sopa \u001b[38;5;241m=\u001b[39m BeautifulSoup(res\u001b[38;5;241m.\u001b[39mcontent, \u001b[38;5;124m\"\u001b[39m\u001b[38;5;124mhtml.parser\u001b[39m\u001b[38;5;124m\"\u001b[39m)\n\u001b[0;32m     12\u001b[0m \u001b[38;5;66;03m#sopa = BeautifulSoup(html_contenido, \"html.parser\")\u001b[39;00m\n\u001b[1;32m---> 14\u001b[0m argumento \u001b[38;5;241m=\u001b[39m \u001b[43msopa\u001b[49m\u001b[38;5;241;43m.\u001b[39;49m\u001b[43mfind\u001b[49m\u001b[43m(\u001b[49m\u001b[38;5;124;43m\"\u001b[39;49m\u001b[38;5;124;43mspan\u001b[39;49m\u001b[38;5;124;43m\"\u001b[39;49m\u001b[43m,\u001b[49m\u001b[43m \u001b[49m\u001b[43m{\u001b[49m\u001b[38;5;124;43m\"\u001b[39;49m\u001b[38;5;124;43mclass\u001b[39;49m\u001b[38;5;124;43m\"\u001b[39;49m\u001b[43m:\u001b[49m\u001b[38;5;124;43m\"\u001b[39;49m\u001b[38;5;124;43msc-3ac15c8d-1 gkeSEi\u001b[39;49m\u001b[38;5;124;43m\"\u001b[39;49m\u001b[43m}\u001b[49m\u001b[43m)\u001b[49m\u001b[38;5;241;43m.\u001b[39;49m\u001b[43mtext\u001b[49m\n\u001b[0;32m     16\u001b[0m contenido \u001b[38;5;241m=\u001b[39m sopa\u001b[38;5;241m.\u001b[39mfindAll(\u001b[38;5;124m\"\u001b[39m\u001b[38;5;124mul\u001b[39m\u001b[38;5;124m\"\u001b[39m, {\u001b[38;5;124m\"\u001b[39m\u001b[38;5;124mclass\u001b[39m\u001b[38;5;124m\"\u001b[39m:\u001b[38;5;124m\"\u001b[39m\u001b[38;5;124mipc-inline-list ipc-inline-list--show-dividers ipc-inline-list--inline ipc-metadata-list-item__list-content baseAlt\u001b[39m\u001b[38;5;124m\"\u001b[39m})\n\u001b[0;32m     17\u001b[0m directores \u001b[38;5;241m=\u001b[39m contenido[\u001b[38;5;241m0\u001b[39m]\u001b[38;5;241m.\u001b[39mfindAll(\u001b[38;5;124m\"\u001b[39m\u001b[38;5;124ma\u001b[39m\u001b[38;5;124m\"\u001b[39m)\n",
      "\u001b[1;31mAttributeError\u001b[0m: 'NoneType' object has no attribute 'text'"
     ]
    }
   ],
   "source": [
    "driver = webdriver.Chrome()\n",
    "url = f\"https://www.imdb.com/es-es/title/{id}/\"\n",
    "driver.get(url)\n",
    "driver.maximize_window()\n",
    "\n",
    "html_contenido = driver.page_source\n",
    "\n",
    "sopa = BeautifulSoup(html_contenido, \"html.parser\")\n",
    "\n",
    "argumento = sopa.find(\"span\", {\"class\":\"sc-3ac15c8d-1 gkeSEi\"}).text\n",
    "\n",
    "contenido = sopa.findAll(\"ul\", {\"class\":\"ipc-inline-list ipc-inline-list--show-dividers ipc-inline-list--inline ipc-metadata-list-item__list-content baseAlt\"})\n",
    "directores = contenido[0].findAll(\"a\")\n",
    "guionistas = contenido[1].findAll(\"a\")\n",
    "reparto = contenido[2].findAll(\"a\")\n",
    "\n",
    "lista_directores = [director.text for director in directores]\n",
    "lista_guionistas = [guion.text for guion in guionistas]\n",
    "lista_reparto = [rep.text for rep in reparto]\n",
    "\n",
    "nota_txt = sopa.find(\"span\", {\"class\":\"sc-d541859f-1 imUuxf\"}).text\n",
    "nota = float(nota_txt.replace(\",\", \".\"))\n",
    "\n",
    "hora = sopa.find(\"ul\", {\"class\":\"ipc-inline-list ipc-inline-list--show-dividers sc-ec65ba05-2 joVhBE baseAlt\"})\n",
    "lista_hora = hora.findAll(\"li\")[1].text.replace(\"min\", \"\").split(\"h\")\n",
    "if len(lista_hora)>1:\n",
    "    hora=int(lista_hora[0].strip())\n",
    "    minutos = int(lista_hora[1].strip())\n",
    "    minutos_totales = hora*60+minutos\n",
    "else:\n",
    "    minutos_totales = int(lista_hora[0].strip())\n",
    "\n",
    "tupla_final = (nota, lista_directores, lista_guionistas, lista_reparto, argumento, minutos_totales)\n",
    "print(tupla_final)\n",
    "\n",
    "\n"
   ]
  },
  {
   "cell_type": "code",
   "execution_count": null,
   "metadata": {},
   "outputs": [],
   "source": []
  }
 ],
 "metadata": {
  "kernelspec": {
   "display_name": "Python 3",
   "language": "python",
   "name": "python3"
  },
  "language_info": {
   "codemirror_mode": {
    "name": "ipython",
    "version": 3
   },
   "file_extension": ".py",
   "mimetype": "text/x-python",
   "name": "python",
   "nbconvert_exporter": "python",
   "pygments_lexer": "ipython3",
   "version": "3.11.9"
  }
 },
 "nbformat": 4,
 "nbformat_minor": 2
}
