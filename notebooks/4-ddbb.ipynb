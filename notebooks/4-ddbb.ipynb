{
 "cells": [
  {
   "cell_type": "markdown",
   "metadata": {},
   "source": [
    "### Fase 5: Creación de una Base de Datos\n",
    "Organiza toda la información recopilada en una base de datos SQL bien estructurada. Define las tablas y relaciones necesarias para almacenar los datos de manera eficiente.\n",
    "\n",
    "\n",
    "### Fase 6: Inserción de Datos en la Base de Datos\n",
    "Inserta todos los datos recopilados en la base de datos diseñada.\n",
    "\n",
    "___"
   ]
  },
  {
   "cell_type": "code",
   "execution_count": 60,
   "metadata": {},
   "outputs": [],
   "source": [
    "import pandas as pd\n",
    "import numpy as np\n",
    "import psycopg2\n",
    "from psycopg2 import OperationalError, errorcodes, errors\n",
    "import sys\n",
    "import os\n",
    "import matplotlib.pyplot as plt\n",
    "import seaborn as sns\n",
    "import pandas as pd\n",
    "import numpy as np\n",
    "import warnings\n",
    "warnings.filterwarnings('ignore')\n",
    "\n",
    "sys.path.append(\"../src\")\n",
    "import funciones_bbdd as fb"
   ]
  },
  {
   "cell_type": "code",
   "execution_count": 61,
   "metadata": {},
   "outputs": [],
   "source": [
    "nombre_bbdd = \"pruba_data\"\n",
    "conexion = fb.conexion_bbdd(nombre_bbdd)\n",
    "cursor = conexion.cursor()"
   ]
  },
  {
   "cell_type": "code",
   "execution_count": 62,
   "metadata": {},
   "outputs": [],
   "source": [
    "fb.creacion_tablas(conexion, cursor)"
   ]
  },
  {
   "cell_type": "code",
   "execution_count": 89,
   "metadata": {},
   "outputs": [],
   "source": [
    "df_peliculas = pd.read_csv(\"../datos/datos_ana/peliculas.csv\")\n",
    "df_detalles_peliculas = pd.read_csv(\"../datos/datos_ana/detalles_peliculas.csv\")\n",
    "df_pelicula_artista = pd.read_csv(\"../datos/datos_ana/pelicula_artista.csv\")\n",
    "df_detalles_artistas = pd.read_csv(\"../datos/datos_ana/detalles_artistas.csv\")"
   ]
  },
  {
   "cell_type": "markdown",
   "metadata": {},
   "source": [
    "Insertamos los géneros:"
   ]
  },
  {
   "cell_type": "code",
   "execution_count": 5,
   "metadata": {},
   "outputs": [],
   "source": [
    "lista_generos = list(df_peliculas[\"generos\"].unique())\n",
    "lista_tuplas_super = [(x,) for x in lista_generos]\n",
    "query_insercion = \"insert into generos (nombre) values (%s)\"\n",
    "cursor.executemany(query_insercion, lista_tuplas_super)\n",
    "conexion.commit()"
   ]
  },
  {
   "cell_type": "code",
   "execution_count": 6,
   "metadata": {},
   "outputs": [],
   "source": [
    "lista_tuplas_super = [tuple(fila) for fila in df_detalles_artistas.values]\n",
    "query_insercion = \"insert into actores (nombre, anio, conocido_por, que_hace, premios) values (%s, %s, %s, %s, %s)\"\n",
    "cursor.executemany(query_insercion, lista_tuplas_super)\n",
    "conexion.commit()"
   ]
  },
  {
   "cell_type": "markdown",
   "metadata": {},
   "source": [
    "Antes de insertar la tabla de película sustituimos los géneros por sus id:"
   ]
  },
  {
   "cell_type": "code",
   "execution_count": 64,
   "metadata": {},
   "outputs": [
    {
     "data": {
      "text/plain": [
       "[(1, 'Action'),\n",
       " (2, 'Drama'),\n",
       " (3, 'Comedy'),\n",
       " (4, 'Fantasy'),\n",
       " (5, 'Horror'),\n",
       " (6, 'Romance'),\n",
       " (7, 'Thriller'),\n",
       " (8, 'Mystery')]"
      ]
     },
     "execution_count": 64,
     "metadata": {},
     "output_type": "execute_result"
    }
   ],
   "source": [
    "consulta = \"\"\"SELECT *\n",
    "FROM generos g ;\"\"\"\n",
    "\n",
    "conexion = fb.conexion_bbdd(nombre_bbdd)\n",
    "cursor = conexion.cursor()\n",
    "cursor.execute(consulta)\n",
    "data = cursor.fetchall()\n",
    "data"
   ]
  },
  {
   "cell_type": "code",
   "execution_count": 65,
   "metadata": {},
   "outputs": [],
   "source": [
    "dic_map = {}\n",
    "for t in data:\n",
    "    dic_map[t[1]]=t[0]\n",
    "\n",
    "df_peliculas[\"generos\"] = df_peliculas[\"generos\"].map(dic_map)"
   ]
  },
  {
   "cell_type": "markdown",
   "metadata": {},
   "source": [
    "Mergemamos las tablas para tener toda la información de una misma película en una única fila:"
   ]
  },
  {
   "cell_type": "code",
   "execution_count": 66,
   "metadata": {},
   "outputs": [
    {
     "data": {
      "text/html": [
       "<div>\n",
       "<style scoped>\n",
       "    .dataframe tbody tr th:only-of-type {\n",
       "        vertical-align: middle;\n",
       "    }\n",
       "\n",
       "    .dataframe tbody tr th {\n",
       "        vertical-align: top;\n",
       "    }\n",
       "\n",
       "    .dataframe thead th {\n",
       "        text-align: right;\n",
       "    }\n",
       "</style>\n",
       "<table border=\"1\" class=\"dataframe\">\n",
       "  <thead>\n",
       "    <tr style=\"text-align: right;\">\n",
       "      <th></th>\n",
       "      <th>Tipo</th>\n",
       "      <th>Titulo</th>\n",
       "      <th>Año</th>\n",
       "      <th>Mes</th>\n",
       "      <th>Id</th>\n",
       "      <th>generos</th>\n",
       "      <th>cali_imdb</th>\n",
       "      <th>direc_imbd</th>\n",
       "      <th>guion_imbd</th>\n",
       "      <th>argum_imbd</th>\n",
       "      <th>durac_imbd</th>\n",
       "    </tr>\n",
       "  </thead>\n",
       "  <tbody>\n",
       "    <tr>\n",
       "      <th>0</th>\n",
       "      <td>Movie</td>\n",
       "      <td>Las Travesuras de Super Chido</td>\n",
       "      <td>1990</td>\n",
       "      <td>10</td>\n",
       "      <td>tt0320656</td>\n",
       "      <td>1</td>\n",
       "      <td>7.7</td>\n",
       "      <td>Alejandro Todd</td>\n",
       "      <td>Óscar FentanesJuan Garrido</td>\n",
       "      <td>Desconocido</td>\n",
       "      <td>1h 35min</td>\n",
       "    </tr>\n",
       "  </tbody>\n",
       "</table>\n",
       "</div>"
      ],
      "text/plain": [
       "    Tipo                         Titulo   Año  Mes         Id  generos  \\\n",
       "0  Movie  Las Travesuras de Super Chido  1990   10  tt0320656        1   \n",
       "\n",
       "   cali_imdb      direc_imbd                  guion_imbd   argum_imbd  \\\n",
       "0        7.7  Alejandro Todd  Óscar FentanesJuan Garrido  Desconocido   \n",
       "\n",
       "  durac_imbd  \n",
       "0   1h 35min  "
      ]
     },
     "execution_count": 66,
     "metadata": {},
     "output_type": "execute_result"
    }
   ],
   "source": [
    "df_merged = df_peliculas.merge(df_detalles_peliculas, left_on=\"Id\", right_on=\"id_pelicula\")\n",
    "df_merged.drop(columns=[\"id_pelicula\", \"titulo\"], inplace=True)\n",
    "df_merged.head(1)"
   ]
  },
  {
   "cell_type": "code",
   "execution_count": 67,
   "metadata": {},
   "outputs": [],
   "source": [
    "df_merged[\"cali_imdb\"] = df_merged[\"cali_imdb\"].fillna(0)"
   ]
  },
  {
   "cell_type": "markdown",
   "metadata": {},
   "source": [
    "Reordenamos para insertar en la tabla en el mismo orden que se crearon las columnas:"
   ]
  },
  {
   "cell_type": "code",
   "execution_count": 69,
   "metadata": {},
   "outputs": [],
   "source": [
    "df_ordenado = df_merged.iloc[:, [4, 1, 0, 5, 2, 3, 6, 10, 7, 8, 9]]"
   ]
  },
  {
   "cell_type": "markdown",
   "metadata": {},
   "source": [
    "Insertamos la tabla películas:"
   ]
  },
  {
   "cell_type": "code",
   "execution_count": 70,
   "metadata": {},
   "outputs": [
    {
     "name": "stdout",
     "output_type": "stream",
     "text": [
      "[('tt0320656', 'Las Travesuras de Super Chido', 'Movie', 1, 1990, 10, 7.7, '1h 35min', 'Alejandro Todd', 'Óscar FentanesJuan Garrido', 'Desconocido')]\n"
     ]
    }
   ],
   "source": [
    "lista_tuplas_super = [tuple(fila) for fila in df_ordenado.values]\n",
    "query_insercion = \"insert into peliculas (id_pelicula, titulo, tipo, id_genero, anio, mes, nota, duracion, directores, guionistas, argumento) values (%s, %s, %s, %s, %s, %s, %s, %s, %s, %s, %s)\"\n",
    "cursor.executemany(query_insercion, lista_tuplas_super)\n",
    "conexion.commit()"
   ]
  },
  {
   "cell_type": "markdown",
   "metadata": {},
   "source": [
    "### Inserción tabla `Apariciones`"
   ]
  },
  {
   "cell_type": "code",
   "execution_count": 77,
   "metadata": {},
   "outputs": [
    {
     "data": {
      "text/html": [
       "<div>\n",
       "<style scoped>\n",
       "    .dataframe tbody tr th:only-of-type {\n",
       "        vertical-align: middle;\n",
       "    }\n",
       "\n",
       "    .dataframe tbody tr th {\n",
       "        vertical-align: top;\n",
       "    }\n",
       "\n",
       "    .dataframe thead th {\n",
       "        text-align: right;\n",
       "    }\n",
       "</style>\n",
       "<table border=\"1\" class=\"dataframe\">\n",
       "  <thead>\n",
       "    <tr style=\"text-align: right;\">\n",
       "      <th></th>\n",
       "      <th>Movie ID</th>\n",
       "      <th>Actriz_Actor</th>\n",
       "    </tr>\n",
       "  </thead>\n",
       "  <tbody>\n",
       "    <tr>\n",
       "      <th>0</th>\n",
       "      <td>tt0110660</td>\n",
       "      <td>Tony Ka Fai Leung</td>\n",
       "    </tr>\n",
       "    <tr>\n",
       "      <th>1</th>\n",
       "      <td>tt0110363</td>\n",
       "      <td>Luke Edwards</td>\n",
       "    </tr>\n",
       "    <tr>\n",
       "      <th>2</th>\n",
       "      <td>tt0110397</td>\n",
       "      <td>Jennifer Barker</td>\n",
       "    </tr>\n",
       "    <tr>\n",
       "      <th>3</th>\n",
       "      <td>tt0111045</td>\n",
       "      <td>Miklós Déri</td>\n",
       "    </tr>\n",
       "    <tr>\n",
       "      <th>4</th>\n",
       "      <td>tt0111653</td>\n",
       "      <td>Joe Bays</td>\n",
       "    </tr>\n",
       "    <tr>\n",
       "      <th>...</th>\n",
       "      <td>...</td>\n",
       "      <td>...</td>\n",
       "    </tr>\n",
       "    <tr>\n",
       "      <th>14504</th>\n",
       "      <td>tt10709060</td>\n",
       "      <td>Kendra Kuhnhofer</td>\n",
       "    </tr>\n",
       "    <tr>\n",
       "      <th>14514</th>\n",
       "      <td>tt14142640</td>\n",
       "      <td>Prakash</td>\n",
       "    </tr>\n",
       "    <tr>\n",
       "      <th>14519</th>\n",
       "      <td>tt18688348</td>\n",
       "      <td>Oleg Primogenov</td>\n",
       "    </tr>\n",
       "    <tr>\n",
       "      <th>14522</th>\n",
       "      <td>tt27241513</td>\n",
       "      <td>Georgiy Topolaga</td>\n",
       "    </tr>\n",
       "    <tr>\n",
       "      <th>14527</th>\n",
       "      <td>tt27262238</td>\n",
       "      <td>Jacob Schindler</td>\n",
       "    </tr>\n",
       "  </tbody>\n",
       "</table>\n",
       "<p>10435 rows × 2 columns</p>\n",
       "</div>"
      ],
      "text/plain": [
       "         Movie ID       Actriz_Actor\n",
       "0       tt0110660  Tony Ka Fai Leung\n",
       "1       tt0110363       Luke Edwards\n",
       "2       tt0110397    Jennifer Barker\n",
       "3       tt0111045        Miklós Déri\n",
       "4       tt0111653           Joe Bays\n",
       "...           ...                ...\n",
       "14504  tt10709060   Kendra Kuhnhofer\n",
       "14514  tt14142640            Prakash\n",
       "14519  tt18688348    Oleg Primogenov\n",
       "14522  tt27241513   Georgiy Topolaga\n",
       "14527  tt27262238    Jacob Schindler\n",
       "\n",
       "[10435 rows x 2 columns]"
      ]
     },
     "execution_count": 77,
     "metadata": {},
     "output_type": "execute_result"
    }
   ],
   "source": [
    "df_pelicula_artista[df_pelicula_artista[\"Actriz_Actor\"] != \"Sin datos\"]"
   ]
  },
  {
   "cell_type": "code",
   "execution_count": 81,
   "metadata": {},
   "outputs": [],
   "source": [
    "consulta = \"\"\"SELECT id_actor , nombre \n",
    "                FROM actores a ;\"\"\"\n",
    "\n",
    "conexion = fb.conexion_bbdd(nombre_bbdd)\n",
    "cursor = conexion.cursor()\n",
    "cursor.execute(consulta)\n",
    "data = cursor.fetchall()"
   ]
  },
  {
   "cell_type": "code",
   "execution_count": null,
   "metadata": {},
   "outputs": [],
   "source": [
    "dic_id_actor = {}\n",
    "for t in data:\n",
    "    dic_id_actor[t[1].lower()]=t[0]\n",
    "\n",
    "\n",
    "df_pelicula_artista[\"Actriz_Actor\"]=df_pelicula_artista[\"Actriz_Actor\"].str.lower()\n",
    "\n",
    "df_pelicula_artista[\"Actriz_Actor\"] = df_pelicula_artista[\"Actriz_Actor\"].map(dic_map)"
   ]
  },
  {
   "cell_type": "code",
   "execution_count": 95,
   "metadata": {},
   "outputs": [
    {
     "data": {
      "text/html": [
       "<div>\n",
       "<style scoped>\n",
       "    .dataframe tbody tr th:only-of-type {\n",
       "        vertical-align: middle;\n",
       "    }\n",
       "\n",
       "    .dataframe tbody tr th {\n",
       "        vertical-align: top;\n",
       "    }\n",
       "\n",
       "    .dataframe thead th {\n",
       "        text-align: right;\n",
       "    }\n",
       "</style>\n",
       "<table border=\"1\" class=\"dataframe\">\n",
       "  <thead>\n",
       "    <tr style=\"text-align: right;\">\n",
       "      <th></th>\n",
       "      <th>Movie ID</th>\n",
       "      <th>Actriz_Actor</th>\n",
       "    </tr>\n",
       "  </thead>\n",
       "  <tbody>\n",
       "  </tbody>\n",
       "</table>\n",
       "</div>"
      ],
      "text/plain": [
       "Empty DataFrame\n",
       "Columns: [Movie ID, Actriz_Actor]\n",
       "Index: []"
      ]
     },
     "execution_count": 95,
     "metadata": {},
     "output_type": "execute_result"
    }
   ],
   "source": [
    "df_pelicula_artista[df_pelicula_artista[\"Actriz_Actor\"].notna()]"
   ]
  },
  {
   "cell_type": "markdown",
   "metadata": {},
   "source": [
    "Al parecer no hay ningún actor en la tabla df_pelicula_artista igual en nombre a los actores de la tabla df_detalles_artistas, por lo que no tiene ningún sentido crear esta última tabla."
   ]
  },
  {
   "cell_type": "code",
   "execution_count": null,
   "metadata": {},
   "outputs": [],
   "source": []
  }
 ],
 "metadata": {
  "kernelspec": {
   "display_name": "Python 3",
   "language": "python",
   "name": "python3"
  },
  "language_info": {
   "codemirror_mode": {
    "name": "ipython",
    "version": 3
   },
   "file_extension": ".py",
   "mimetype": "text/x-python",
   "name": "python",
   "nbconvert_exporter": "python",
   "pygments_lexer": "ipython3",
   "version": "3.11.9"
  }
 },
 "nbformat": 4,
 "nbformat_minor": 2
}
