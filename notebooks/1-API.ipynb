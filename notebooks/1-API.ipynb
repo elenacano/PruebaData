{
 "cells": [
  {
   "cell_type": "markdown",
   "metadata": {},
   "source": [
    "### Fase 1: Extracción de Datos de API de MoviesDataset\n"
   ]
  },
  {
   "cell_type": "markdown",
   "metadata": {},
   "source": [
    "En esta fase se utilizará la API de MoviesDataset para extraer información relevante sobre películas y cortometrajes.\n",
    "\n",
    "**Requerimientos:**\n",
    "- Películas desde 1990 hasta la actualidad.\n",
    "- Géneros: Drama, Comedy, Action, Fantasy, Horror, Mystery, Romance, Thriller.\n",
    "- Información necesaria:\n",
    "  - Tipo (corto o película).\n",
    "  - Nombre.\n",
    "  - Año y mes de estreno.\n",
    "  - ID de la película.\n"
   ]
  },
  {
   "cell_type": "markdown",
   "metadata": {},
   "source": [
    "_______________________"
   ]
  },
  {
   "cell_type": "code",
   "execution_count": 125,
   "metadata": {},
   "outputs": [
    {
     "data": {
      "text/plain": [
       "True"
      ]
     },
     "execution_count": 125,
     "metadata": {},
     "output_type": "execute_result"
    }
   ],
   "source": [
    "import pandas as pd\n",
    "import pickle\n",
    "import requests\n",
    "from tqdm import tqdm\n",
    "import os\n",
    "import dotenv\n",
    "dotenv.load_dotenv()"
   ]
  },
  {
   "cell_type": "code",
   "execution_count": 126,
   "metadata": {},
   "outputs": [
    {
     "name": "stdout",
     "output_type": "stream",
     "text": [
      "Buscando películas del género Drama...\n"
     ]
    },
    {
     "name": "stderr",
     "output_type": "stream",
     "text": [
      "100%|██████████| 35/35 [00:28<00:00,  1.21it/s]\n"
     ]
    },
    {
     "name": "stdout",
     "output_type": "stream",
     "text": [
      "Buscando películas del género Comedy...\n"
     ]
    },
    {
     "name": "stderr",
     "output_type": "stream",
     "text": [
      "100%|██████████| 35/35 [00:27<00:00,  1.29it/s]\n"
     ]
    },
    {
     "name": "stdout",
     "output_type": "stream",
     "text": [
      "Buscando películas del género Action...\n"
     ]
    },
    {
     "name": "stderr",
     "output_type": "stream",
     "text": [
      "100%|██████████| 35/35 [00:27<00:00,  1.27it/s]\n"
     ]
    },
    {
     "name": "stdout",
     "output_type": "stream",
     "text": [
      "Buscando películas del género Fantasy...\n"
     ]
    },
    {
     "name": "stderr",
     "output_type": "stream",
     "text": [
      "100%|██████████| 35/35 [00:32<00:00,  1.09it/s]\n"
     ]
    },
    {
     "name": "stdout",
     "output_type": "stream",
     "text": [
      "Buscando películas del género Horror...\n"
     ]
    },
    {
     "name": "stderr",
     "output_type": "stream",
     "text": [
      "100%|██████████| 35/35 [00:26<00:00,  1.33it/s]\n"
     ]
    },
    {
     "name": "stdout",
     "output_type": "stream",
     "text": [
      "Buscando películas del género Mystery...\n"
     ]
    },
    {
     "name": "stderr",
     "output_type": "stream",
     "text": [
      "100%|██████████| 35/35 [00:25<00:00,  1.37it/s]\n"
     ]
    },
    {
     "name": "stdout",
     "output_type": "stream",
     "text": [
      "Buscando películas del género Romance...\n"
     ]
    },
    {
     "name": "stderr",
     "output_type": "stream",
     "text": [
      "100%|██████████| 35/35 [00:27<00:00,  1.26it/s]\n"
     ]
    },
    {
     "name": "stdout",
     "output_type": "stream",
     "text": [
      "Buscando películas del género Thriller...\n"
     ]
    },
    {
     "name": "stderr",
     "output_type": "stream",
     "text": [
      "100%|██████████| 35/35 [00:55<00:00,  1.58s/it]\n"
     ]
    }
   ],
   "source": [
    "url = \"https://moviesdatabase.p.rapidapi.com/titles\"\n",
    "api_key = os.getenv(\"api_key\")\n",
    "\n",
    "lista_generos = [\"Drama\", \"Comedy\", \"Action\", \"Fantasy\", \"Horror\", \"Mystery\", \"Romance\", \"Thriller\"]\n",
    "lista_tipos = [\"movie\", \"short\"]\n",
    "lista_final = []\n",
    "\n",
    "for genero in lista_generos:\n",
    "    print(f\"Buscando películas del género {genero}...\")\n",
    "    for anio_peli in tqdm(range(1990, 2025)):\n",
    "        for tipo_peli in lista_tipos:\n",
    "\n",
    "            # Llamada a la API\n",
    "            querystring = {\"genre\": genero,\n",
    "                        \"titleType\": tipo_peli,\n",
    "                        \"year\": str(anio_peli),\n",
    "                        \"sort\":\"year.incr\",\n",
    "                        \"limit\":\"50\"}\n",
    "\n",
    "            headers = {\n",
    "                \"x-rapidapi-key\": api_key,\n",
    "                \"x-rapidapi-host\": \"moviesdatabase.p.rapidapi.com\"\n",
    "            }\n",
    "\n",
    "            response = requests.get(url, headers=headers, params=querystring)\n",
    "            res = response.json()\n",
    "\n",
    "            # Obtenemos los datos deseados y los almacenamos en una lista\n",
    "            for i in range(len(res[\"results\"])):\n",
    "                id = res[\"results\"][i][\"id\"]\n",
    "                titulo = res[\"results\"][i][\"originalTitleText\"][\"text\"]\n",
    "                tipo = res[\"results\"][i][\"titleType\"][\"text\"]\n",
    "                anio = res[\"results\"][i][\"releaseYear\"][\"year\"]\n",
    "                \n",
    "                # Si no hay mes lo dejamos a none\n",
    "                try:\n",
    "                    mes = res[\"results\"][i][\"releaseDate\"][\"month\"]\n",
    "                except:\n",
    "                    mes = None\n",
    "                \n",
    "                # Si no ha filtrado bien el tipo o el año no guardamos la peli\n",
    "                if tipo.lower() != tipo_peli:\n",
    "                    print(f\"  El tipo es {tipo} cuando debería ser {tipo_peli}\")\n",
    "                    continue\n",
    "                if anio != anio_peli:\n",
    "                    print(f\"  El año de la peli es {anio} cuando debería ser {anio_peli}\")\n",
    "                    continue\n",
    "                \n",
    "                lista_final.append((id, titulo, genero, tipo, anio, mes))\n",
    "    \n",
    "    # Cada vez que acaba un genero lo almacenamos en el pkl\n",
    "    with open('../datos/datos_api.plk', 'wb') as f:\n",
    "        pickle.dump(lista_final, f)\n",
    "\n",
    "\n",
    "    "
   ]
  },
  {
   "cell_type": "markdown",
   "metadata": {},
   "source": [
    "Cargamos el pickle que hemos guardado con todos los datos recogidos de la API y creamos un dataframe:"
   ]
  },
  {
   "cell_type": "code",
   "execution_count": 128,
   "metadata": {},
   "outputs": [],
   "source": [
    "with open('../datos/datos_api.plk', 'rb') as f:\n",
    "     data = pickle.load(f)"
   ]
  },
  {
   "cell_type": "code",
   "execution_count": null,
   "metadata": {},
   "outputs": [
    {
     "data": {
      "text/html": [
       "<div>\n",
       "<style scoped>\n",
       "    .dataframe tbody tr th:only-of-type {\n",
       "        vertical-align: middle;\n",
       "    }\n",
       "\n",
       "    .dataframe tbody tr th {\n",
       "        vertical-align: top;\n",
       "    }\n",
       "\n",
       "    .dataframe thead th {\n",
       "        text-align: right;\n",
       "    }\n",
       "</style>\n",
       "<table border=\"1\" class=\"dataframe\">\n",
       "  <thead>\n",
       "    <tr style=\"text-align: right;\">\n",
       "      <th></th>\n",
       "      <th>id</th>\n",
       "      <th>title</th>\n",
       "      <th>genre</th>\n",
       "      <th>type</th>\n",
       "      <th>release_year</th>\n",
       "      <th>release_month</th>\n",
       "    </tr>\n",
       "  </thead>\n",
       "  <tbody>\n",
       "    <tr>\n",
       "      <th>3679</th>\n",
       "      <td>tt0206829</td>\n",
       "      <td>The Honky Problem</td>\n",
       "      <td>Comedy</td>\n",
       "      <td>Short</td>\n",
       "      <td>1991</td>\n",
       "      <td>NaN</td>\n",
       "    </tr>\n",
       "    <tr>\n",
       "      <th>2793</th>\n",
       "      <td>tt10105354</td>\n",
       "      <td>Cascaritas</td>\n",
       "      <td>Drama</td>\n",
       "      <td>Short</td>\n",
       "      <td>2017</td>\n",
       "      <td>10.0</td>\n",
       "    </tr>\n",
       "    <tr>\n",
       "      <th>26976</th>\n",
       "      <td>tt27053740</td>\n",
       "      <td>A Christmas Gift</td>\n",
       "      <td>Thriller</td>\n",
       "      <td>Short</td>\n",
       "      <td>2024</td>\n",
       "      <td>1.0</td>\n",
       "    </tr>\n",
       "    <tr>\n",
       "      <th>26840</th>\n",
       "      <td>tt12494932</td>\n",
       "      <td>72</td>\n",
       "      <td>Thriller</td>\n",
       "      <td>Movie</td>\n",
       "      <td>2023</td>\n",
       "      <td>6.0</td>\n",
       "    </tr>\n",
       "    <tr>\n",
       "      <th>12098</th>\n",
       "      <td>tt1245913</td>\n",
       "      <td>Vincent, le magnifique</td>\n",
       "      <td>Fantasy</td>\n",
       "      <td>Short</td>\n",
       "      <td>2008</td>\n",
       "      <td>3.0</td>\n",
       "    </tr>\n",
       "  </tbody>\n",
       "</table>\n",
       "</div>"
      ],
      "text/plain": [
       "               id                   title     genre   type  release_year  \\\n",
       "3679    tt0206829       The Honky Problem    Comedy  Short          1991   \n",
       "2793   tt10105354              Cascaritas     Drama  Short          2017   \n",
       "26976  tt27053740        A Christmas Gift  Thriller  Short          2024   \n",
       "26840  tt12494932                      72  Thriller  Movie          2023   \n",
       "12098   tt1245913  Vincent, le magnifique   Fantasy  Short          2008   \n",
       "\n",
       "       release_month  \n",
       "3679             NaN  \n",
       "2793            10.0  \n",
       "26976            1.0  \n",
       "26840            6.0  \n",
       "12098            3.0  "
      ]
     },
     "execution_count": 135,
     "metadata": {},
     "output_type": "execute_result"
    }
   ],
   "source": [
    "df = pd.DataFrame(lista_final, columns =['id', 'title', 'genre', 'type', \"release_year\", \"release_month\"])\n",
    "df.sample(5)"
   ]
  },
  {
   "cell_type": "code",
   "execution_count": 136,
   "metadata": {},
   "outputs": [],
   "source": [
    "df.to_pickle(\"../datos/df_pelis.pkl\")"
   ]
  }
 ],
 "metadata": {
  "kernelspec": {
   "display_name": "Python 3",
   "language": "python",
   "name": "python3"
  },
  "language_info": {
   "codemirror_mode": {
    "name": "ipython",
    "version": 3
   },
   "file_extension": ".py",
   "mimetype": "text/x-python",
   "name": "python",
   "nbconvert_exporter": "python",
   "pygments_lexer": "ipython3",
   "version": "3.11.9"
  }
 },
 "nbformat": 4,
 "nbformat_minor": 2
}
